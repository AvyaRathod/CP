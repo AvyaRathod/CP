{
 "cells": [
  {
   "attachments": {},
   "cell_type": "markdown",
   "metadata": {},
   "source": [
    "RA2111003011013\n",
    "Question 6"
   ]
  },
  {
   "cell_type": "code",
   "execution_count": 1,
   "metadata": {},
   "outputs": [
    {
     "name": "stdout",
     "output_type": "stream",
     "text": [
      "1\n",
      "2\n",
      "3\n",
      "4\n",
      "5\n"
     ]
    }
   ],
   "source": [
    "a= [1,1,1,2,3,4,2,3,5,3,4,2,3,2]\n",
    "unique = list(set(a)) \n",
    "for i in unique:\n",
    "    print(i)"
   ]
  },
  {
   "attachments": {},
   "cell_type": "markdown",
   "metadata": {},
   "source": [
    "Question 11b"
   ]
  }
 ],
 "metadata": {
  "kernelspec": {
   "display_name": "seg_models",
   "language": "python",
   "name": "python3"
  },
  "language_info": {
   "codemirror_mode": {
    "name": "ipython",
    "version": 3
   },
   "file_extension": ".py",
   "mimetype": "text/x-python",
   "name": "python",
   "nbconvert_exporter": "python",
   "pygments_lexer": "ipython3",
   "version": "3.9.13"
  },
  "orig_nbformat": 4,
  "vscode": {
   "interpreter": {
    "hash": "157facdb046848fa84041134b7d1f6970195bafc0d2d82199143cf51ae8c4496"
   }
  }
 },
 "nbformat": 4,
 "nbformat_minor": 2
}
